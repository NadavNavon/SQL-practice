{
 "cells": [
  {
   "cell_type": "markdown",
   "metadata": {},
   "source": [
    "## Chile properties SQL practice "
   ]
  },
  {
   "cell_type": "code",
   "execution_count": null,
   "metadata": {},
   "outputs": [],
   "source": []
  },
  {
   "cell_type": "code",
   "execution_count": null,
   "metadata": {},
   "outputs": [],
   "source": []
  },
  {
   "cell_type": "code",
   "execution_count": null,
   "metadata": {},
   "outputs": [],
   "source": []
  },
  {
   "cell_type": "markdown",
   "metadata": {},
   "source": [
    "### Use all the tables of this database"
   ]
  },
  {
   "cell_type": "code",
   "execution_count": null,
   "metadata": {},
   "outputs": [],
   "source": [
    "SELECT * \n",
    "FROM `properati-data-public.properties_cl.*`\n",
    "LIMIR 10;"
   ]
  },
  {
   "cell_type": "markdown",
   "metadata": {},
   "source": [
    "### Find the count and share of each property type listings in 2015"
   ]
  },
  {
   "cell_type": "code",
   "execution_count": null,
   "metadata": {},
   "outputs": [],
   "source": [
    "# method 1 - using group by \n",
    "\n",
    "SELECT property_type, \n",
    "       count(*) as property_cnt, \n",
    "       count(*)/sum(count(*)) over () as property_percent\n",
    "FROM `properati-data-public.properties_cl.*`\n",
    "WHERE extract(year from created_on) = 2015\n",
    "GROUP BY property_type;\n"
   ]
  },
  {
   "cell_type": "code",
   "execution_count": null,
   "metadata": {},
   "outputs": [],
   "source": [
    "# method 2 - using window functions only\n",
    "SELECT  distinct \n",
    "        property_type, \n",
    "        count(*) over(partition by property_type) as property_cnt, \n",
    "        count(*) over(partition by property_type) / count(*) over () as percent\n",
    "FROM `properati-data-public.properties_cl.*`\n",
    "WHERE extract(year from created_on) = 2015;\n",
    "# - use of distinct neglects the need for the group by clause"
   ]
  },
  {
   "cell_type": "markdown",
   "metadata": {},
   "source": [
    "### Find the share of property_type listings in 2015, order by highest to lowest share."
   ]
  },
  {
   "cell_type": "code",
   "execution_count": null,
   "metadata": {},
   "outputs": [],
   "source": [
    "# method 1 - using group by\n",
    "\n",
    "SELECT property_type, \n",
    "       count(*) as property_cnt, \n",
    "       100 * count(*)/ sum(count(*)) over () as property_percent\n",
    "FROM `properati-data-public.properties_cl.*`\n",
    "WHERE extract(year from created_on) = 2015\n",
    "GROUP BY property_type\n",
    "ORDER BY property_percent desc;\n",
    "\n",
    "# - notice: the count(*) at the numerator prior the window function acts according to the groupby clause."
   ]
  },
  {
   "cell_type": "code",
   "execution_count": null,
   "metadata": {},
   "outputs": [],
   "source": [
    "# method 2 - using distinct and window functions\n",
    "\n",
    "SELECT distinct \n",
    "       property_type, \n",
    "       count(*) over(partition by property_type) as property_cnt, \n",
    "       100 * count(*) over(partition by property_type) / count(*) over () as property_percent\n",
    "FROM `properati-data-public.properties_cl.*`\n",
    "WHERE extract(year from created_on) = 2015\n",
    "ORDER BY property_percent desc;\n"
   ]
  },
  {
   "cell_type": "markdown",
   "metadata": {},
   "source": [
    "### Find the share of apartment listings in 2015"
   ]
  },
  {
   "cell_type": "code",
   "execution_count": null,
   "metadata": {},
   "outputs": [],
   "source": [
    "# method 1 - subquery in the select statement\n",
    "\n",
    "SELECT count(*) / (\n",
    "                    SELECT count(*)\n",
    "                    FROM `properati-data-public.properties_cl.*`\n",
    "                    WHERE extract(year from created_on) = 2015\n",
    "                    ) as apt_portion\n",
    "FROM `properati-data-public.properties_cl.*`\n",
    "WHERE extract(year from created_on) = 2015 and property_type = 'apartment';\n"
   ]
  },
  {
   "cell_type": "code",
   "execution_count": null,
   "metadata": {},
   "outputs": [],
   "source": [
    "# method 2 - using cte\n",
    "\n",
    "with cte as \n",
    "    (\n",
    "    SELECT property_type, \n",
    "           count(*) as property_cnt\n",
    "    FROM `properati-data-public.properties_cl.*`\n",
    "    WHERE extract(year from created_on) = 2015\n",
    "    GROUP BY property_type\n",
    "    )\n",
    "\n",
    "SELECT property_cnt\t / (SELECT sum(property_cnt) FROM cte) as apt_portion\n",
    "FROM cte\n",
    "WHERE property_type = 'apartment';\n"
   ]
  },
  {
   "cell_type": "code",
   "execution_count": null,
   "metadata": {},
   "outputs": [],
   "source": [
    "# method 3 -  using case statement - no subquery nor cte required.\n",
    "\n",
    "SELECT count(case when property_type = 'apartment' then 'property_type' end) / count(*) as apt_portion\n",
    "from `properati-data-public.properties_cl.*`\n",
    "WHERE extract(year from created_on) = 2015;\n"
   ]
  },
  {
   "cell_type": "markdown",
   "metadata": {},
   "source": [
    "### Find the number of houses with price of less then 2000 for each month in 2015"
   ]
  },
  {
   "cell_type": "code",
   "execution_count": null,
   "metadata": {},
   "outputs": [],
   "source": [
    "# method 1 \n",
    "\n",
    "SELECT cheap_tbl.month, cheap_apts / tot_apts as cheap_portion\n",
    "FROM\n",
    "    (\n",
    "     \n",
    "    (SELECT extract(month from created_on) as month, count(*) as cheap_apts\n",
    "     FROM `properati-data-public.properties_cl.*` \n",
    "     WHERE extract(year from created_on) = 2015 and property_type = 'apartment' and price < 2000\n",
    "     GROUP BY month) cheap_tbl\n",
    "\n",
    "    left join \n",
    "    \n",
    "    (SELECT extract(month from created_on) as month, count(*) as tot_apts\n",
    "     FROM `properati-data-public.properties_cl.*`\n",
    "     WHERE extract(year from created_on) = 2015 and property_type = 'apartment'\n",
    "     GROUP BY month) tot_tbl\n",
    "\n",
    "    on cheap_tbl.month = tot_tbl.month \n",
    "    )\n",
    "\n",
    "ORDER BY month;"
   ]
  },
  {
   "cell_type": "code",
   "execution_count": null,
   "metadata": {},
   "outputs": [],
   "source": [
    "# method 2- do the same, but insert the two subq into cte \n",
    "\n",
    "with cte as (\n",
    "    SELECT * \n",
    "    FROM (SELECT extract(month from created_on) as month_cheap, count(*) as cheap_apts\n",
    "          FROM `properati-data-public.properties_cl.*` \n",
    "          WHERE extract(year from created_on) = 2015 and property_type = 'apartment' and price < 2000\n",
    "          GROUP BY month_cheap) cheap_tbl\n",
    "\n",
    "          left join \n",
    "    \n",
    "         (SELECT extract(month from created_on) as month_total, count(*) as tot_apts\n",
    "          FROM `properati-data-public.properties_cl.*`\n",
    "          WHERE extract(year from created_on) = 2015 and property_type = 'apartment'\n",
    "          GROUP BY month_total) tot_tbl\n",
    "\n",
    "          on cheap_tbl.month_cheap = tot_tbl.month_total \n",
    "        )\n",
    "\n",
    "SELECT month_cheap as month, cheap_apts / tot_apts \n",
    "FROM cte\n",
    "ORDER BY month;"
   ]
  },
  {
   "cell_type": "markdown",
   "metadata": {},
   "source": [
    "### test a case when, with aggregate: For each month in 2015, find the percentage of listings of type house \n"
   ]
  },
  {
   "cell_type": "code",
   "execution_count": null,
   "metadata": {},
   "outputs": [],
   "source": [
    "select  extract(month from created_on) as month, \n",
    "        count(case when property_type = 'apartment' then 'apt' end) as apt_cnt,\n",
    "        count(*) as total_listings, \n",
    "        count(case when property_type = 'apartment' then 'apt' end) * 100 / count(*)  as apt_precentage\n",
    "from `properati-data-public.properties_cl.*`\n",
    "where extract(year from created_on) = 2015\n",
    "group by month\n",
    "order by month;\n"
   ]
  },
  {
   "cell_type": "markdown",
   "metadata": {},
   "source": [
    "### Buckets: For listed rentel apartments in chile: calculate how many are sold above and below the average price "
   ]
  },
  {
   "cell_type": "code",
   "execution_count": null,
   "metadata": {},
   "outputs": [],
   "source": [
    "with cte as (\n",
    "             select property_type, \n",
    "             price, \n",
    "             case when price > (select avg(price) from `properati-data-public.properties_cl.*` where property_type = 'apartment' and operation = 'rent') then 'above_average' else 'below_average' end as ratio\n",
    "from `properati-data-public.properties_cl.*`\n",
    "where property_type = 'apartment' and operation = 'rent'\n",
    ") \n",
    "\n",
    "select ratio, count(ratio) / (select count(*) from cte) as relative_ratio \n",
    "from cte \n",
    "group by ratio;"
   ]
  },
  {
   "cell_type": "code",
   "execution_count": null,
   "metadata": {},
   "outputs": [],
   "source": []
  }
 ],
 "metadata": {
  "kernelspec": {
   "display_name": "Python 3",
   "language": "python",
   "name": "python3"
  },
  "language_info": {
   "codemirror_mode": {
    "name": "ipython",
    "version": 3
   },
   "file_extension": ".py",
   "mimetype": "text/x-python",
   "name": "python",
   "nbconvert_exporter": "python",
   "pygments_lexer": "ipython3",
   "version": "3.6.4"
  }
 },
 "nbformat": 4,
 "nbformat_minor": 2
}
